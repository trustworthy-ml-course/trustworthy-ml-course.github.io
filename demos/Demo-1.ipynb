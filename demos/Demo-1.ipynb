{
  "nbformat": 4,
  "nbformat_minor": 0,
  "metadata": {
    "colab": {
      "provenance": [],
      "gpuType": "T4"
    },
    "kernelspec": {
      "name": "python3",
      "display_name": "Python 3"
    },
    "language_info": {
      "name": "python"
    },
    "accelerator": "GPU"
  },
  "cells": [
    {
      "cell_type": "code",
      "execution_count": null,
      "metadata": {
        "id": "vYsu9tuCY066"
      },
      "outputs": [],
      "source": [
        "import torch\n",
        "from torch import nn\n",
        "from torch.utils.data import DataLoader\n",
        "from torchvision import datasets\n",
        "from torchvision.transforms import ToTensor"
      ]
    },
    {
      "cell_type": "code",
      "source": [
        "# Download training data from open datasets.\n",
        "training_data = datasets.FashionMNIST(\n",
        "    root=\"data\",\n",
        "    train=True,\n",
        "    download=True,\n",
        "    transform=ToTensor(),\n",
        ")\n",
        "\n",
        "# Download test data from open datasets.\n",
        "test_data = datasets.FashionMNIST(\n",
        "    root=\"data\",\n",
        "    train=False,\n",
        "    download=True,\n",
        "    transform=ToTensor(),\n",
        ")"
      ],
      "metadata": {
        "id": "xouiKc1lddwg",
        "colab": {
          "base_uri": "https://localhost:8080/"
        },
        "outputId": "9d007f93-b06c-4bf6-cca0-1b29c15b939d"
      },
      "execution_count": null,
      "outputs": [
        {
          "output_type": "stream",
          "name": "stdout",
          "text": [
            "Downloading http://fashion-mnist.s3-website.eu-central-1.amazonaws.com/train-images-idx3-ubyte.gz\n",
            "Downloading http://fashion-mnist.s3-website.eu-central-1.amazonaws.com/train-images-idx3-ubyte.gz to data/FashionMNIST/raw/train-images-idx3-ubyte.gz\n"
          ]
        },
        {
          "output_type": "stream",
          "name": "stderr",
          "text": [
            "100%|██████████| 26421880/26421880 [00:10<00:00, 2402296.66it/s]\n"
          ]
        },
        {
          "output_type": "stream",
          "name": "stdout",
          "text": [
            "Extracting data/FashionMNIST/raw/train-images-idx3-ubyte.gz to data/FashionMNIST/raw\n",
            "\n",
            "Downloading http://fashion-mnist.s3-website.eu-central-1.amazonaws.com/train-labels-idx1-ubyte.gz\n",
            "Downloading http://fashion-mnist.s3-website.eu-central-1.amazonaws.com/train-labels-idx1-ubyte.gz to data/FashionMNIST/raw/train-labels-idx1-ubyte.gz\n"
          ]
        },
        {
          "output_type": "stream",
          "name": "stderr",
          "text": [
            "100%|██████████| 29515/29515 [00:00<00:00, 202121.68it/s]\n"
          ]
        },
        {
          "output_type": "stream",
          "name": "stdout",
          "text": [
            "Extracting data/FashionMNIST/raw/train-labels-idx1-ubyte.gz to data/FashionMNIST/raw\n",
            "\n",
            "Downloading http://fashion-mnist.s3-website.eu-central-1.amazonaws.com/t10k-images-idx3-ubyte.gz\n",
            "Downloading http://fashion-mnist.s3-website.eu-central-1.amazonaws.com/t10k-images-idx3-ubyte.gz to data/FashionMNIST/raw/t10k-images-idx3-ubyte.gz\n"
          ]
        },
        {
          "output_type": "stream",
          "name": "stderr",
          "text": [
            "100%|██████████| 4422102/4422102 [00:01<00:00, 3737953.66it/s]\n"
          ]
        },
        {
          "output_type": "stream",
          "name": "stdout",
          "text": [
            "Extracting data/FashionMNIST/raw/t10k-images-idx3-ubyte.gz to data/FashionMNIST/raw\n",
            "\n",
            "Downloading http://fashion-mnist.s3-website.eu-central-1.amazonaws.com/t10k-labels-idx1-ubyte.gz\n",
            "Downloading http://fashion-mnist.s3-website.eu-central-1.amazonaws.com/t10k-labels-idx1-ubyte.gz to data/FashionMNIST/raw/t10k-labels-idx1-ubyte.gz\n"
          ]
        },
        {
          "output_type": "stream",
          "name": "stderr",
          "text": [
            "100%|██████████| 5148/5148 [00:00<00:00, 20217487.82it/s]"
          ]
        },
        {
          "output_type": "stream",
          "name": "stdout",
          "text": [
            "Extracting data/FashionMNIST/raw/t10k-labels-idx1-ubyte.gz to data/FashionMNIST/raw\n",
            "\n"
          ]
        },
        {
          "output_type": "stream",
          "name": "stderr",
          "text": [
            "\n"
          ]
        }
      ]
    },
    {
      "cell_type": "code",
      "source": [
        "# set batch size for SGD\n",
        "batch_size = 64\n",
        "\n",
        "# Create data loaders.\n",
        "train_dataloader = DataLoader(training_data, batch_size=batch_size)\n",
        "test_dataloader = DataLoader(test_data, batch_size=batch_size)\n",
        "\n",
        "for X, y in test_dataloader:\n",
        "    print(f\"Shape of X [N, C, H, W]: {X.shape}\")\n",
        "    print(f\"Shape of y: {y.shape} {y.dtype}\")\n",
        "    break"
      ],
      "metadata": {
        "id": "9UbcVdcueKwL",
        "colab": {
          "base_uri": "https://localhost:8080/"
        },
        "outputId": "6710b168-0d28-490b-f0ac-39d6ccc9a2a8"
      },
      "execution_count": null,
      "outputs": [
        {
          "output_type": "stream",
          "name": "stdout",
          "text": [
            "Shape of X [N, C, H, W]: torch.Size([64, 1, 28, 28])\n",
            "Shape of y: torch.Size([64]) torch.int64\n"
          ]
        }
      ]
    },
    {
      "cell_type": "code",
      "source": [
        "# Get cpu, gpu or mps device for training.\n",
        "device = (\n",
        "    \"cuda\"\n",
        "    if torch.cuda.is_available()\n",
        "    else \"mps\"\n",
        "    if torch.backends.mps.is_available()\n",
        "    else \"cpu\"\n",
        ")\n",
        "print(f\"Using {device} device\")\n",
        "\n",
        "\n"
      ],
      "metadata": {
        "id": "b6NujJsyelkP",
        "colab": {
          "base_uri": "https://localhost:8080/"
        },
        "outputId": "e1681edb-1d68-4442-9568-0a2afd26804f"
      },
      "execution_count": null,
      "outputs": [
        {
          "output_type": "stream",
          "name": "stdout",
          "text": [
            "Using cuda device\n"
          ]
        }
      ]
    },
    {
      "cell_type": "code",
      "source": [
        "# Define model\n",
        "class DNN(nn.Module):\n",
        "    def __init__(self):\n",
        "        super().__init__()\n",
        "        self.flatten = nn.Flatten()\n",
        "        self.linear_relu_stack = nn.Sequential(\n",
        "            nn.Linear(28*28, 512),\n",
        "            nn.ReLU(),\n",
        "            nn.Linear(512, 512),\n",
        "            nn.ReLU(),\n",
        "            nn.Linear(512, 10)\n",
        "        )\n",
        "\n",
        "    def forward(self, x):\n",
        "        x = self.flatten(x)\n",
        "        logits = self.linear_relu_stack(x)\n",
        "        return logits"
      ],
      "metadata": {
        "id": "UXKjh0-l4bhP"
      },
      "execution_count": null,
      "outputs": []
    },
    {
      "cell_type": "code",
      "source": [
        "model = DNN().to(device)\n",
        "print(model)"
      ],
      "metadata": {
        "id": "GYzq00KnwCau",
        "colab": {
          "base_uri": "https://localhost:8080/"
        },
        "outputId": "50e7100d-a869-41a6-aaad-aaa1cf48d9e9"
      },
      "execution_count": null,
      "outputs": [
        {
          "output_type": "stream",
          "name": "stdout",
          "text": [
            "DNN(\n",
            "  (flatten): Flatten(start_dim=1, end_dim=-1)\n",
            "  (linear_relu_stack): Sequential(\n",
            "    (0): Linear(in_features=784, out_features=512, bias=True)\n",
            "    (1): ReLU()\n",
            "    (2): Linear(in_features=512, out_features=512, bias=True)\n",
            "    (3): ReLU()\n",
            "    (4): Linear(in_features=512, out_features=10, bias=True)\n",
            "  )\n",
            ")\n"
          ]
        }
      ]
    },
    {
      "cell_type": "code",
      "source": [
        "loss_fn =  nn.CrossEntropyLoss()\n",
        "optimizer = torch.optim.SGD(model.parameters(), lr=1e-3)\n",
        "print (model.parameters())"
      ],
      "metadata": {
        "id": "F74GUwhRfzuU",
        "colab": {
          "base_uri": "https://localhost:8080/"
        },
        "outputId": "ea270d27-83a1-4304-a91a-0ce6cdaf12d8"
      },
      "execution_count": null,
      "outputs": [
        {
          "output_type": "stream",
          "name": "stdout",
          "text": [
            "<generator object Module.parameters at 0x7be403263610>\n"
          ]
        }
      ]
    },
    {
      "cell_type": "code",
      "source": [
        "def train(dataloader, model, loss_fn, optimizer):\n",
        "    size = len(dataloader.dataset)\n",
        "    model.train()\n",
        "    for batch, (X, y) in enumerate(dataloader):\n",
        "        X, y = X.to(device), y.to(device)\n",
        "\n",
        "        # Compute loss\n",
        "        pred = model(X)\n",
        "        loss = loss_fn(pred, y)\n",
        "\n",
        "        # Backpropagation\n",
        "        loss.backward()\n",
        "        optimizer.step()\n",
        "        optimizer.zero_grad()\n",
        "\n",
        "        if batch % 100 == 0:\n",
        "            loss, current = loss.item(), (batch + 1) * len(X)\n",
        "            print(f\"loss: {loss:>7f}  [{current:>5d}/{size:>5d}]\")"
      ],
      "metadata": {
        "id": "o22kUQb4f8ud"
      },
      "execution_count": null,
      "outputs": []
    },
    {
      "cell_type": "code",
      "source": [
        "def test(dataloader, model, loss_fn):\n",
        "    size = len(dataloader.dataset)\n",
        "    num_batches = len(dataloader)\n",
        "    model.eval()\n",
        "    test_loss, correct = 0, 0\n",
        "    with torch.no_grad():\n",
        "        for X, y in dataloader:\n",
        "            X, y = X.to(device), y.to(device)\n",
        "            pred = model(X)\n",
        "            test_loss += loss_fn(pred, y).item()\n",
        "            correct += (pred.argmax(1) == y).type(torch.float).sum().item()\n",
        "    test_loss /= num_batches\n",
        "    correct /= size\n",
        "    print(f\"Test Error: \\n Accuracy: {(100*correct):>0.1f}%, Avg loss: {test_loss:>8f} \\n\")"
      ],
      "metadata": {
        "id": "lSFgJ8AsgoLd"
      },
      "execution_count": null,
      "outputs": []
    },
    {
      "cell_type": "code",
      "source": [
        "epochs = 10\n",
        "for t in range(epochs):\n",
        "    print(f\"Epoch {t+1}\\n-------------------------------\")\n",
        "    train(train_dataloader, model, loss_fn, optimizer)\n",
        "    test(test_dataloader, model, loss_fn)\n",
        "print(\"Done!\")"
      ],
      "metadata": {
        "id": "tnHDnRtKg3kc",
        "colab": {
          "base_uri": "https://localhost:8080/"
        },
        "outputId": "03604d34-0f77-4103-f21f-09063d71b76f"
      },
      "execution_count": null,
      "outputs": [
        {
          "output_type": "stream",
          "name": "stdout",
          "text": [
            "Epoch 1\n",
            "-------------------------------\n",
            "loss: 1.179981  [   64/60000]\n",
            "loss: 1.186467  [ 6464/60000]\n",
            "loss: 1.002276  [12864/60000]\n",
            "loss: 1.136757  [19264/60000]\n",
            "loss: 1.012483  [25664/60000]\n",
            "loss: 1.040665  [32064/60000]\n",
            "loss: 1.080890  [38464/60000]\n",
            "loss: 1.018266  [44864/60000]\n",
            "loss: 1.059860  [51264/60000]\n",
            "loss: 0.991107  [57664/60000]\n",
            "Test Error: \n",
            " Accuracy: 65.4%, Avg loss: 1.001684 \n",
            "\n",
            "Epoch 2\n",
            "-------------------------------\n",
            "loss: 1.061728  [   64/60000]\n",
            "loss: 1.086215  [ 6464/60000]\n",
            "loss: 0.883372  [12864/60000]\n",
            "loss: 1.040797  [19264/60000]\n",
            "loss: 0.915591  [25664/60000]\n",
            "loss: 0.942522  [32064/60000]\n",
            "loss: 0.999700  [38464/60000]\n",
            "loss: 0.938306  [44864/60000]\n",
            "loss: 0.977178  [51264/60000]\n",
            "loss: 0.919362  [57664/60000]\n",
            "Test Error: \n",
            " Accuracy: 66.9%, Avg loss: 0.924492 \n",
            "\n",
            "Epoch 3\n",
            "-------------------------------\n",
            "loss: 0.971685  [   64/60000]\n",
            "loss: 1.014811  [ 6464/60000]\n",
            "loss: 0.796075  [12864/60000]\n",
            "loss: 0.971961  [19264/60000]\n",
            "loss: 0.849703  [25664/60000]\n",
            "loss: 0.868977  [32064/60000]\n",
            "loss: 0.941623  [38464/60000]\n",
            "loss: 0.883437  [44864/60000]\n",
            "loss: 0.916710  [51264/60000]\n",
            "loss: 0.867212  [57664/60000]\n",
            "Test Error: \n",
            " Accuracy: 68.3%, Avg loss: 0.868513 \n",
            "\n",
            "Epoch 4\n",
            "-------------------------------\n",
            "loss: 0.901439  [   64/60000]\n",
            "loss: 0.960432  [ 6464/60000]\n",
            "loss: 0.730375  [12864/60000]\n",
            "loss: 0.920618  [19264/60000]\n",
            "loss: 0.802974  [25664/60000]\n",
            "loss: 0.812744  [32064/60000]\n",
            "loss: 0.897101  [38464/60000]\n",
            "loss: 0.844501  [44864/60000]\n",
            "loss: 0.871363  [51264/60000]\n",
            "loss: 0.827174  [57664/60000]\n",
            "Test Error: \n",
            " Accuracy: 69.6%, Avg loss: 0.826074 \n",
            "\n",
            "Epoch 5\n",
            "-------------------------------\n",
            "loss: 0.845092  [   64/60000]\n",
            "loss: 0.916528  [ 6464/60000]\n",
            "loss: 0.679547  [12864/60000]\n",
            "loss: 0.880591  [19264/60000]\n",
            "loss: 0.768167  [25664/60000]\n",
            "loss: 0.769353  [32064/60000]\n",
            "loss: 0.860752  [38464/60000]\n",
            "loss: 0.815610  [44864/60000]\n",
            "loss: 0.836201  [51264/60000]\n",
            "loss: 0.794932  [57664/60000]\n",
            "Test Error: \n",
            " Accuracy: 71.0%, Avg loss: 0.792524 \n",
            "\n",
            "Epoch 6\n",
            "-------------------------------\n",
            "loss: 0.798696  [   64/60000]\n",
            "loss: 0.879386  [ 6464/60000]\n",
            "loss: 0.639003  [12864/60000]\n",
            "loss: 0.848443  [19264/60000]\n",
            "loss: 0.740969  [25664/60000]\n",
            "loss: 0.735383  [32064/60000]\n",
            "loss: 0.829828  [38464/60000]\n",
            "loss: 0.793049  [44864/60000]\n",
            "loss: 0.807866  [51264/60000]\n",
            "loss: 0.767959  [57664/60000]\n",
            "Test Error: \n",
            " Accuracy: 72.2%, Avg loss: 0.764894 \n",
            "\n",
            "Epoch 7\n",
            "-------------------------------\n",
            "loss: 0.759442  [   64/60000]\n",
            "loss: 0.846680  [ 6464/60000]\n",
            "loss: 0.605605  [12864/60000]\n",
            "loss: 0.822144  [19264/60000]\n",
            "loss: 0.718693  [25664/60000]\n",
            "loss: 0.708427  [32064/60000]\n",
            "loss: 0.802399  [38464/60000]\n",
            "loss: 0.774329  [44864/60000]\n",
            "loss: 0.784276  [51264/60000]\n",
            "loss: 0.744692  [57664/60000]\n",
            "Test Error: \n",
            " Accuracy: 73.4%, Avg loss: 0.741286 \n",
            "\n",
            "Epoch 8\n",
            "-------------------------------\n",
            "loss: 0.725488  [   64/60000]\n",
            "loss: 0.817287  [ 6464/60000]\n",
            "loss: 0.577439  [12864/60000]\n",
            "loss: 0.799918  [19264/60000]\n",
            "loss: 0.699778  [25664/60000]\n",
            "loss: 0.686485  [32064/60000]\n",
            "loss: 0.777445  [38464/60000]\n",
            "loss: 0.758070  [44864/60000]\n",
            "loss: 0.764023  [51264/60000]\n",
            "loss: 0.724029  [57664/60000]\n",
            "Test Error: \n",
            " Accuracy: 74.5%, Avg loss: 0.720554 \n",
            "\n",
            "Epoch 9\n",
            "-------------------------------\n",
            "loss: 0.695660  [   64/60000]\n",
            "loss: 0.790490  [ 6464/60000]\n",
            "loss: 0.553178  [12864/60000]\n",
            "loss: 0.780700  [19264/60000]\n",
            "loss: 0.683401  [25664/60000]\n",
            "loss: 0.668319  [32064/60000]\n",
            "loss: 0.754484  [38464/60000]\n",
            "loss: 0.743568  [44864/60000]\n",
            "loss: 0.746408  [51264/60000]\n",
            "loss: 0.705370  [57664/60000]\n",
            "Test Error: \n",
            " Accuracy: 75.2%, Avg loss: 0.701984 \n",
            "\n",
            "Epoch 10\n",
            "-------------------------------\n",
            "loss: 0.669279  [   64/60000]\n",
            "loss: 0.765942  [ 6464/60000]\n",
            "loss: 0.532028  [12864/60000]\n",
            "loss: 0.763853  [19264/60000]\n",
            "loss: 0.668968  [25664/60000]\n",
            "loss: 0.653049  [32064/60000]\n",
            "loss: 0.733101  [38464/60000]\n",
            "loss: 0.730485  [44864/60000]\n",
            "loss: 0.730988  [51264/60000]\n",
            "loss: 0.688391  [57664/60000]\n",
            "Test Error: \n",
            " Accuracy: 75.9%, Avg loss: 0.685139 \n",
            "\n",
            "Done!\n"
          ]
        }
      ]
    },
    {
      "cell_type": "code",
      "source": [
        "torch.save(model.state_dict(), \"model.pth\")\n",
        "print(\"Saved PyTorch Model State to model.pth\")"
      ],
      "metadata": {
        "id": "slWjbfGhhOb0",
        "colab": {
          "base_uri": "https://localhost:8080/"
        },
        "outputId": "7fb2b67b-22dd-4ad4-e921-f4e5cbf42f75"
      },
      "execution_count": null,
      "outputs": [
        {
          "output_type": "stream",
          "name": "stdout",
          "text": [
            "Saved PyTorch Model State to model.pth\n"
          ]
        }
      ]
    },
    {
      "cell_type": "code",
      "source": [
        "model = DNN().to(device)\n",
        "model.load_state_dict(torch.load(\"model.pth\"))"
      ],
      "metadata": {
        "id": "5TW-e4zwhTLG",
        "colab": {
          "base_uri": "https://localhost:8080/"
        },
        "outputId": "a155e578-ab07-4b32-ff7c-5bd7ba3f3f5e"
      },
      "execution_count": null,
      "outputs": [
        {
          "output_type": "execute_result",
          "data": {
            "text/plain": [
              "<All keys matched successfully>"
            ]
          },
          "metadata": {},
          "execution_count": 13
        }
      ]
    },
    {
      "cell_type": "code",
      "source": [
        "classes = [\n",
        "    \"T-shirt/top\",\n",
        "    \"Trouser\",\n",
        "    \"Pullover\",\n",
        "    \"Dress\",\n",
        "    \"Coat\",\n",
        "    \"Sandal\",\n",
        "    \"Shirt\",\n",
        "    \"Sneaker\",\n",
        "    \"Bag\",\n",
        "    \"Ankle boot\",\n",
        "]\n",
        "\n",
        "model.eval()\n",
        "x, y = test_data[0][0], test_data[0][1]\n",
        "with torch.no_grad():\n",
        "    x = x.to(device)\n",
        "    pred = model(x)\n",
        "    predicted, actual = classes[pred[0].argmax(0)], classes[y]\n",
        "    print(f'Predicted: \"{predicted}\", Actual: \"{actual}\"')"
      ],
      "metadata": {
        "id": "biS1fDt6hYL2",
        "colab": {
          "base_uri": "https://localhost:8080/"
        },
        "outputId": "7c6bf3c1-61b8-4c08-edf2-5a0b70420a0f"
      },
      "execution_count": null,
      "outputs": [
        {
          "output_type": "stream",
          "name": "stdout",
          "text": [
            "Predicted: \"Ankle boot\", Actual: \"Ankle boot\"\n"
          ]
        }
      ]
    }
  ]
}