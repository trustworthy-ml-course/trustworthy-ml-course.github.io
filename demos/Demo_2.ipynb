{
  "nbformat": 4,
  "nbformat_minor": 0,
  "metadata": {
    "colab": {
      "provenance": [],
      "gpuType": "T4"
    },
    "kernelspec": {
      "name": "python3",
      "display_name": "Python 3"
    },
    "language_info": {
      "name": "python"
    },
    "accelerator": "GPU"
  },
  "cells": [
    {
      "cell_type": "code",
      "source": [
        "import torch\n",
        "import torch.nn as nn\n",
        "import torch.optim as optim\n",
        "import torchvision\n",
        "from torchvision import transforms\n",
        "from torch.utils.data import DataLoader\n",
        "import matplotlib.pyplot as plt"
      ],
      "metadata": {
        "id": "t8zTrWBC-eB8"
      },
      "execution_count": null,
      "outputs": []
    },
    {
      "cell_type": "code",
      "source": [
        "# Download training data\n",
        "training_data = torchvision.datasets.MNIST(\n",
        "    root=\"data\",\n",
        "    train=True,\n",
        "    download=True,\n",
        "    transform=transforms.ToTensor(),\n",
        ")\n",
        "\n",
        "# Download test data\n",
        "test_data = torchvision.datasets.MNIST(\n",
        "    root=\"data\",\n",
        "    train=False,\n",
        "    download=True,\n",
        "    transform=transforms.ToTensor(),\n",
        ")"
      ],
      "metadata": {
        "id": "SpPJGP4KCD1m"
      },
      "execution_count": null,
      "outputs": []
    },
    {
      "cell_type": "code",
      "source": [
        "# Create data loaders.\n",
        "batch_size = 64\n",
        "train_dataloader = DataLoader(training_data, batch_size=batch_size)\n",
        "test_dataloader = DataLoader(test_data, batch_size=batch_size)\n",
        "\n",
        "for X, y in train_dataloader:\n",
        "    print(f\"Shape of X [N, C, H, W]: {X.shape}\")\n",
        "    print(f\"Shape of y: {y.shape} {y.dtype}\")\n",
        "    break"
      ],
      "metadata": {
        "id": "48g-c7jrrUHx"
      },
      "execution_count": null,
      "outputs": []
    },
    {
      "cell_type": "code",
      "source": [
        "# Get cuda, mps or resort to cpu.\n",
        "device = (\n",
        "    \"cuda\"\n",
        "    if torch.cuda.is_available()\n",
        "    else \"mps\"\n",
        "    if torch.backends.mps.is_available()\n",
        "    else \"cpu\"\n",
        ")\n",
        "print(f\"Using {device} device\")"
      ],
      "metadata": {
        "id": "uh2vcSdnaWhX"
      },
      "execution_count": null,
      "outputs": []
    },
    {
      "cell_type": "code",
      "execution_count": null,
      "metadata": {
        "id": "5uL7HYuc99D_"
      },
      "outputs": [],
      "source": [
        "# Define model\n",
        "class DNN(nn.Module):\n",
        "    def __init__(self):\n",
        "        super().__init__()\n",
        "        self.flatten = nn.Flatten()\n",
        "        self.linear_relu_stack = nn.Sequential(\n",
        "            nn.Linear(28*28, 512),\n",
        "            nn.ReLU(),\n",
        "            nn.Linear(512, 512),\n",
        "            nn.ReLU(),\n",
        "            nn.Linear(512, 10)\n",
        "        )\n",
        "\n",
        "    def forward(self, x):\n",
        "        x = self.flatten(x)\n",
        "        logits = self.linear_relu_stack(x)\n",
        "        return logits"
      ]
    },
    {
      "cell_type": "code",
      "source": [
        "model =DNN().to(device)\n",
        "print(model)"
      ],
      "metadata": {
        "id": "QzFZ725omycC"
      },
      "execution_count": null,
      "outputs": []
    },
    {
      "cell_type": "code",
      "source": [
        "#\n",
        "loss_func = nn.CrossEntropyLoss()\n",
        "optimizer = optim.Adam(model.parameters(), lr=0.001, weight_decay=1e-5) # weight decay is another regularization method"
      ],
      "metadata": {
        "id": "WJZBr02onIW8"
      },
      "execution_count": null,
      "outputs": []
    },
    {
      "cell_type": "code",
      "source": [
        "def train(dataloader, model, loss_func, optimizer):\n",
        "    size = len(dataloader.dataset)\n",
        "    model.train()\n",
        "    for batch, (X, y) in enumerate(dataloader):\n",
        "        X, y = X.to(device), y.to(device)\n",
        "\n",
        "        # Compute loss\n",
        "        pred = model(X)\n",
        "        loss = loss_func(pred, y)\n",
        "\n",
        "        # Backpropagation\n",
        "        loss.backward()\n",
        "        optimizer.step()\n",
        "        optimizer.zero_grad()\n",
        "\n",
        "        if batch % 100 == 0:\n",
        "            loss, current = loss.item(), (batch + 1) * len(X)\n",
        "            print(f\"loss: {loss:>7f}  [{current:>5d}/{size:>5d}]\")"
      ],
      "metadata": {
        "id": "HJaP_Wa4l5Pl"
      },
      "execution_count": null,
      "outputs": []
    },
    {
      "cell_type": "code",
      "source": [
        "def test(dataloader, model, loss_func):\n",
        "    size = len(dataloader.dataset)\n",
        "    num_batches = len(dataloader)\n",
        "    model.eval()\n",
        "    test_loss, correct = 0, 0\n",
        "    with torch.no_grad():\n",
        "        for X, y in dataloader:\n",
        "            X, y = X.to(device), y.to(device)\n",
        "            pred = model(X)\n",
        "            test_loss += loss_func(pred, y).item()\n",
        "            correct += (pred.argmax(1) == y).type(torch.float).sum().item()\n",
        "    test_loss /= num_batches\n",
        "    correct /= size\n",
        "    print(f\"Test Error: \\n Accuracy: {(100*correct):>0.1f}%, Avg loss: {test_loss:>8f} \\n\")"
      ],
      "metadata": {
        "id": "1tC1KwHSqSyF"
      },
      "execution_count": null,
      "outputs": []
    },
    {
      "cell_type": "code",
      "source": [
        "# Test model before attack\n",
        "epochs = 10\n",
        "for epoch in range(epochs):\n",
        "    print(f\"Epoch {epoch+1}\\n-------------------------------\")\n",
        "    train(train_dataloader, model, loss_func, optimizer)\n",
        "    test(test_dataloader, model, loss_func)\n",
        "print(\"Done!\")"
      ],
      "metadata": {
        "id": "Ey0A7Nrmr2gb"
      },
      "execution_count": null,
      "outputs": []
    },
    {
      "cell_type": "code",
      "source": [
        "# FGSM attack\n",
        "def FGSM_attack(model, image, label, epsilon):\n",
        "\n",
        "    image.requires_grad = True # since we're acting on the image\n",
        "    model.zero_grad()\n",
        "\n",
        "    predicted = model(image)\n",
        "    loss = loss_func(predicted, label)\n",
        "    loss.backward()\n",
        "\n",
        "    perturbed_image = image + epsilon * image.grad.sign()\n",
        "    perturbed_image = torch.clamp(perturbed_image, 0, 1) # clip to ensure pixel values stay in the normalized [0,1] range\n",
        "    return perturbed_image"
      ],
      "metadata": {
        "id": "S9SvdFuZl-IJ"
      },
      "execution_count": 45,
      "outputs": []
    },
    {
      "cell_type": "code",
      "source": [
        "# Test the FGSM attack on samples from the MNIST test data\n",
        "\n",
        "# set perturbation budget\n",
        "epsilon = 0.1\n",
        "\n",
        "# Load test set to pass each input to FGSM\n",
        "test_dataloader_FGSM = DataLoader(test_data, batch_size=1, shuffle=False)\n",
        "\n",
        "\n",
        "original_images =[]\n",
        "perturbed_images =[]\n",
        "true_labels =[]\n",
        "predicted_labels = []\n",
        "\n",
        "model.eval() # good practice to switch the model from training mode to testing mode\n",
        "\n",
        "for x, y in test_dataloader_FGSM:\n",
        "    x, y = x.to(device), y.to(device)\n",
        "\n",
        "    original_images.append(x)\n",
        "    true_labels.append(y.item())\n",
        "\n",
        "    x_adv = FGSM_attack(model,x,y, epsilon)\n",
        "    perturbed_images.append(x_adv)\n",
        "\n",
        "    output = model(x_adv)\n",
        "    _, y_predicted = torch.max(output, 1)\n",
        "    predicted_labels.append(y_predicted.item())\n",
        "\n",
        "print('Done running FGSM on', len(original_images), 'test samples')"
      ],
      "metadata": {
        "id": "EiB2cDyTmG-n"
      },
      "execution_count": null,
      "outputs": []
    },
    {
      "cell_type": "code",
      "source": [
        "# Compute attack success\n",
        "evasion_ctr =0\n",
        "for i in range (len(true_labels)):\n",
        "      if (true_labels[i]!=predicted_labels[i]):\n",
        "        evasion_ctr+=1\n",
        "print('Attack success rate:',(evasion_ctr/len(original_images))*100 )"
      ],
      "metadata": {
        "id": "afFrbU8yUdJO"
      },
      "execution_count": null,
      "outputs": []
    },
    {
      "cell_type": "code",
      "source": [
        "# Visualize sample original and perturbed mages for comparison\n",
        "sample_size = 10 # maximum could be len(original_images)\n",
        "for i in range (sample_size):\n",
        "    # show true -->predicted\n",
        "    print(true_labels[i], '-->', predicted_labels[i])\n",
        "    # orignal\n",
        "    plt.figure(figsize=(8, 4))\n",
        "    plt.subplot(1, 2, 1)\n",
        "    plt.title('Original Image')\n",
        "    plt.imshow(original_images[i].detach().squeeze().cpu().numpy(), cmap='gray')\n",
        "\n",
        "    # perturbed counterpart\n",
        "    plt.subplot(1, 2, 2)\n",
        "    plt.title('Perturbed Image')\n",
        "    plt.imshow(perturbed_images[i].detach().squeeze().cpu().numpy(), cmap='gray')\n",
        "    plt.show()"
      ],
      "metadata": {
        "id": "xieDxSpBUfQI"
      },
      "execution_count": null,
      "outputs": []
    }
  ]
}